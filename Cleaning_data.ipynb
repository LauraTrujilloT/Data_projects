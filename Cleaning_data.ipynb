{
 "cells": [
  {
   "cell_type": "markdown",
   "metadata": {},
   "source": [
    "# Cleaning data\n",
    "\n",
    "This nb focuses on cleaning and filtering data."
   ]
  },
  {
   "cell_type": "code",
   "execution_count": 1,
   "metadata": {},
   "outputs": [],
   "source": [
    "import numpy as np\n",
    "import pandas as pd\n",
    "from datetime import date\n",
    "import requests\n",
    "import json"
   ]
  },
  {
   "cell_type": "markdown",
   "metadata": {},
   "source": [
    "#### Handy functions"
   ]
  },
  {
   "cell_type": "code",
   "execution_count": 2,
   "metadata": {},
   "outputs": [],
   "source": [
    "def USD_converter(to_cur, amount=1):\n",
    "    \"\"\"\n",
    "    based by default from USD\n",
    "    returns USD from COP\n",
    "    \"\"\"\n",
    " \n",
    "    url = \"https://api.exchangerate-api.com/v4/latest/USD\"\n",
    "\n",
    "    response = requests.get(url)\n",
    "    data = response.text\n",
    "    parsed = json.loads(data)\n",
    "    date = parsed[\"date\"]\n",
    "    rates = parsed[\"rates\"]\n",
    "    print(\"Date:\", date, \"\\n\", \"1 USD to COP: \", rates[to_cur], \"\\n\", str(amount) + \"COP = \" \n",
    "          + str(amount / rates[to_cur]) + \" USD\" ) \n",
    "    return [rates[to_cur], amount / rates[to_cur]] \n",
    "\n",
    "###############################################\n",
    "\n",
    "def km_latlon(lat1, lon1, lat2, lon2):\n",
    "    \"\"\"\n",
    "    returns distance between two coordinates (latitude, longitude)\n",
    "    An approach to determine location from properties\n",
    "    \"\"\"\n",
    "    lat1, lat2 = np.radians(lat1), np.radians(lat2)\n",
    "    lon1, lon2 = np.radians(lon1), np.radians(lon2)\n",
    "    dlon = lon2 - lon1\n",
    "    dlat = lat2 - lat1\n",
    "    a = (np.sin(dlat / 2)) ** 2 + np.cos(lat1) * np.cos(lat2) * (np.sin(dlon / 2)) ** 2\n",
    "    c = 2 * np.arctan2( np.sqrt(a), np.sqrt(1-a) )\n",
    "    return  6373 * c "
   ]
  },
  {
   "cell_type": "markdown",
   "metadata": {},
   "source": [
    "## Uploading data"
   ]
  },
  {
   "cell_type": "code",
   "execution_count": 3,
   "metadata": {},
   "outputs": [],
   "source": [
    "### Properties from db Company A\n",
    "properties_df = pd.read_csv('co_properties.csv.gz', compression='gzip', \n",
    "                                 header=0, sep=',', quotechar='\"')\n",
    "### bogota_locations df\n",
    "bogota_df = pd.read_csv('bogota_localidad.csv', sep=';')\n",
    "bogota_df = bogota_df.drop([5], axis=0) #Bogota row no needed\n",
    "bogota_df = bogota_df[['LOCALIDAD', 'LONGITUD', 'LATITUD']]\n",
    "bogota_df['ESTRATO_MEDIO'] = [4.3, 2.2, 3.4, 3.5, 3.9, 1.6, 1.6, 2.3, 2.7, 3.6, 3.2, 1.6, 3.6, 2.3, 1.8, 3.1, 3.2, 3.4, 1.8, 1.5]\n",
    "bogota_df['SUPERFICIE [km2]'] = [38.9, 9.9, 4.8, 17.3, 65.3, 23.9, 130.0, 13.8, 38.6, 11.9, 35.9, 780.0, 14.2, 2.0, 45.2, 100.6, 33.3, 6.5, 49.1, 215.1]\n",
    "bogota_df = bogota_df.round({'LONGITUD': 3, 'LATITUD': 3})\n",
    "\n",
    "### amsl locations Bogota \n",
    "amsl_df = pd.read_csv('altura-bogota-localidad.csv', sep=\",\")"
   ]
  },
  {
   "cell_type": "markdown",
   "metadata": {},
   "source": [
    "## Cleaning and filtering data"
   ]
  },
  {
   "cell_type": "code",
   "execution_count": 4,
   "metadata": {},
   "outputs": [],
   "source": [
    "## Filtering \n",
    "sel_property = properties_df[['start_date', 'lat', 'lon', 'l3','surface_total' ,'price', \n",
    "                              'currency', 'property_type', 'operation_type']]\n",
    "sel_property = sel_property.loc[(sel_property['l3'] == 'Bogotá D.C') \n",
    "                                & (sel_property['operation_type'] == 'Venta') \n",
    "                                & (sel_property['property_type'] == 'Apartamento')\n",
    "                                & (sel_property['start_date'] > '2020-01-01') \n",
    "                                & (sel_property['start_date'] <= '2020-01-30')]\n",
    "#Cleaning\n",
    "sel_property = sel_property.dropna()"
   ]
  },
  {
   "cell_type": "code",
   "execution_count": 5,
   "metadata": {},
   "outputs": [],
   "source": [
    "### Obtaining loc with mean class(estrato), respectively. Loc is a dict (cointaing index and loc)\n",
    "###\n",
    "\n",
    "loc = {}\n",
    "strat = []\n",
    "\n",
    "for i in range(len(sel_property)):\n",
    "    diff = {}\n",
    "    lat1 = sel_property['lat'].iloc[i]\n",
    "    lon1 = sel_property['lon'].iloc[i]\n",
    "    for n, j in enumerate(bogota_df['LOCALIDAD']):\n",
    "        lat2 = bogota_df['LATITUD'].iloc[n]\n",
    "        lon2 = bogota_df['LONGITUD'].iloc[n]\n",
    "        distance = km_latlon(lat1, lon1, lat2, lon2)\n",
    "        if distance <= bogota_df['SUPERFICIE [km2]'].iloc[n]: \n",
    "            #loc.append(j)\n",
    "            diff[j] = distance\n",
    "            #print(i, distance, j)\n",
    "    if diff:\n",
    "        #print(i, min(diff, key=diff.get))\n",
    "        strat.append(bogota_df.loc[bogota_df['LOCALIDAD'] == min(diff, key=diff.get), 'ESTRATO_MEDIO'].item())\n",
    "        loc[i] = min(diff, key=diff.get)"
   ]
  },
  {
   "cell_type": "markdown",
   "metadata": {},
   "source": [
    "#### Final properties dataset "
   ]
  },
  {
   "cell_type": "code",
   "execution_count": 6,
   "metadata": {},
   "outputs": [],
   "source": [
    "data_companyA = sel_property\n",
    "data_companyA['index'] = [i for i in range(len(sel_property))]\n",
    "data_companyA['location'] = data_companyA['index'].map(loc)\n",
    "data_companyA['mean_class'] = strat\n",
    "data_companyA = data_companyA.drop(columns=['index', 'l3', 'start_date', 'property_type', 'operation_type'])"
   ]
  },
  {
   "cell_type": "markdown",
   "metadata": {},
   "source": [
    "### Dataset USD per square meter ($USD / m^2$)"
   ]
  },
  {
   "cell_type": "code",
   "execution_count": 8,
   "metadata": {},
   "outputs": [],
   "source": [
    "df = data_companyA"
   ]
  },
  {
   "cell_type": "code",
   "execution_count": 17,
   "metadata": {},
   "outputs": [
    {
     "name": "stdout",
     "output_type": "stream",
     "text": [
      "Date: 2021-01-13 \n",
      " 1 USD to COP:  3457.564191 \n",
      " 1COP = 0.00028922094999797506 USD\n",
      "Date: 2021-01-13 \n",
      " 1 USD to COP:  3457.564191 \n",
      " 1COP = 0.00028922094999797506 USD\n"
     ]
    }
   ],
   "source": [
    "#df = data_companyA\n",
    "## Price per m2\n",
    "df['price_per_m2'] = df['price'] / df['surface_total']\n",
    "\n",
    "## df_COL\n",
    "df_COP = df[['location', 'mean_class', 'surface_total', 'price', 'price_per_m2', 'currency', 'lat', 'lon']].copy()\n",
    "\n",
    "## df_USD\n",
    "df_USD = df_COP[['lat', 'lon','location', 'mean_class', 'surface_total', 'price', 'price_per_m2', 'currency']]\n",
    "df_USD['price'] =  df_USD['price'] / USD_converter('COP')[0]\n",
    "df_USD['price_per_m2'] =  df_USD['price_per_m2'] / USD_converter('COP')[0]\n",
    "df_USD['currency'] = 'USD'\n",
    "df_USD = df_USD.round({'price':2, 'price_per_m2':2})"
   ]
  },
  {
   "cell_type": "markdown",
   "metadata": {},
   "source": [
    "#### Average $USD / m^2$"
   ]
  },
  {
   "cell_type": "code",
   "execution_count": 18,
   "metadata": {},
   "outputs": [],
   "source": [
    "df_USD['avg_price'] = df_USD.groupby('location')['price'].transform(np.mean)\n",
    "df_USD['avg_price_m2'] = df_USD.groupby('location')['price_per_m2'].transform(np.mean)\n",
    "df_USD = df_USD.round({'avg_price':2, 'avg_price_m2':2})"
   ]
  },
  {
   "cell_type": "markdown",
   "metadata": {},
   "source": [
    "#### amsl dataset"
   ]
  },
  {
   "cell_type": "code",
   "execution_count": 20,
   "metadata": {},
   "outputs": [],
   "source": [
    "amsl_df[\"LocNombre\"].replace({\"ANTONIO NARIÃ‘O\": \"ANTONIO NARIÑO\", \"CANDELARIA\": \"LA CANDELARIA\", \n",
    "                              \"USAQUEN\":\"USAQUÉN\", \"CIUDAD BOLIVAR\":\"CIUDAD BOLÍVAR\", \n",
    "                              \"ENGATIVA\": \"ENGATIVÁ\", \"FONTIBON\":\"FONTIBÓN\", \n",
    "                              \"LOS MARTIRES\":\"LOS MÁRTIRES\"}, inplace=True)"
   ]
  },
  {
   "cell_type": "markdown",
   "metadata": {},
   "source": [
    "## Save datasets `.csv`"
   ]
  },
  {
   "cell_type": "code",
   "execution_count": 21,
   "metadata": {},
   "outputs": [],
   "source": [
    "data_companyA.to_csv('data_companyA.csv', index=False)\n",
    "amsl_df.to_csv('amsl_bogotá_csv.csv', index=False)\n",
    "df_USD.to_csv('data_USD.csv', index=False)"
   ]
  },
  {
   "cell_type": "markdown",
   "metadata": {},
   "source": [
    "**Some useful resources**\n",
    "\n",
    "[**Movilidad Bogotá, Caracterización Socioeconomica de Bogotá**](https://www.movilidadbogota.gov.co/web/sites/default/files/Paginas/28-04-2020/06-caracterizacion_socioeconomica_de_bogota_y_la_region_-_v8.pdf)\n",
    "\n",
    "[**Datos Localidades de Bogotá SDP**](http://www.sdp.gov.co/sites/default/files/caracterizacion_sisben-04032015.pdf)"
   ]
  }
 ],
 "metadata": {
  "kernelspec": {
   "display_name": "Python 3",
   "language": "python",
   "name": "python3"
  },
  "language_info": {
   "codemirror_mode": {
    "name": "ipython",
    "version": 3
   },
   "file_extension": ".py",
   "mimetype": "text/x-python",
   "name": "python",
   "nbconvert_exporter": "python",
   "pygments_lexer": "ipython3",
   "version": "3.8.5"
  }
 },
 "nbformat": 4,
 "nbformat_minor": 4
}
